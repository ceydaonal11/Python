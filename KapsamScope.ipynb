{
 "cells": [
  {
   "cell_type": "markdown",
   "id": "1ccb79d6",
   "metadata": {},
   "source": [
    "scope"
   ]
  },
  {
   "cell_type": "code",
   "execution_count": 1,
   "id": "f08827c3",
   "metadata": {},
   "outputs": [],
   "source": [
    "numara = 20\n",
    "\n",
    "def carpma(rakam):\n",
    "    numara = 10\n",
    "    return numara * rakam"
   ]
  },
  {
   "cell_type": "code",
   "execution_count": 2,
   "id": "f0486375",
   "metadata": {},
   "outputs": [
    {
     "data": {
      "text/plain": [
       "50"
      ]
     },
     "execution_count": 2,
     "metadata": {},
     "output_type": "execute_result"
    }
   ],
   "source": [
    "carpma(5)"
   ]
  },
  {
   "cell_type": "code",
   "execution_count": 3,
   "id": "6b40b9e0",
   "metadata": {},
   "outputs": [
    {
     "name": "stdout",
     "output_type": "stream",
     "text": [
      "20\n"
     ]
    }
   ],
   "source": [
    "print(numara)"
   ]
  },
  {
   "cell_type": "markdown",
   "id": "86cfa7d6",
   "metadata": {},
   "source": [
    "Local, Enclosing, Global, Built-In"
   ]
  },
  {
   "cell_type": "code",
   "execution_count": 4,
   "id": "e69fd274",
   "metadata": {},
   "outputs": [],
   "source": [
    "benimAdim = \"Atıl\"\n",
    "#Global\n",
    "\n",
    "def benimFonk():\n",
    "    benimAdim = \"Mahmut\"\n",
    "    #Enclosing\n",
    "    def icFonk():\n",
    "        benimAdim = \"Ayşe\"\n",
    "        #Local\n",
    "        print(benimAdim)\n",
    "    icFonk()    "
   ]
  },
  {
   "cell_type": "code",
   "execution_count": 5,
   "id": "64a2ef50",
   "metadata": {},
   "outputs": [
    {
     "name": "stdout",
     "output_type": "stream",
     "text": [
      "Ayşe\n"
     ]
    }
   ],
   "source": [
    "benimFonk()"
   ]
  },
  {
   "cell_type": "code",
   "execution_count": 8,
   "id": "3e295bad",
   "metadata": {},
   "outputs": [],
   "source": [
    "y = 10\n",
    "\n",
    "def yeniFonk(y): # fonksiyona değer verdik\n",
    "    print(y)     # verdiğimiz değeri yazdırdık\n",
    "    y = 5        # verdiğimiz değeri 5'e eşitledik\n",
    "    print(y)     # ekrana yazdırdık\n",
    "    return y     # en son dönen değeri yazdırmış olduk"
   ]
  },
  {
   "cell_type": "code",
   "execution_count": 9,
   "id": "cdb5c37e",
   "metadata": {},
   "outputs": [
    {
     "name": "stdout",
     "output_type": "stream",
     "text": [
      "7\n",
      "5\n"
     ]
    },
    {
     "data": {
      "text/plain": [
       "5"
      ]
     },
     "execution_count": 9,
     "metadata": {},
     "output_type": "execute_result"
    }
   ],
   "source": [
    "yeniFonk(7)"
   ]
  },
  {
   "cell_type": "code",
   "execution_count": 10,
   "id": "bcc65c35",
   "metadata": {},
   "outputs": [
    {
     "data": {
      "text/plain": [
       "10"
      ]
     },
     "execution_count": 10,
     "metadata": {},
     "output_type": "execute_result"
    }
   ],
   "source": [
    "y"
   ]
  },
  {
   "cell_type": "code",
   "execution_count": 11,
   "id": "70e55364",
   "metadata": {},
   "outputs": [
    {
     "name": "stdout",
     "output_type": "stream",
     "text": [
      "7\n",
      "5\n"
     ]
    }
   ],
   "source": [
    "y = yeniFonk(7)"
   ]
  },
  {
   "cell_type": "code",
   "execution_count": 12,
   "id": "bc6828bf",
   "metadata": {},
   "outputs": [
    {
     "data": {
      "text/plain": [
       "5"
      ]
     },
     "execution_count": 12,
     "metadata": {},
     "output_type": "execute_result"
    }
   ],
   "source": [
    "y"
   ]
  },
  {
   "cell_type": "code",
   "execution_count": 13,
   "id": "796f3d5a",
   "metadata": {},
   "outputs": [],
   "source": [
    "y = 10\n",
    "#Fonksiyon içerisinde y değeri yoksa o zaman yukarıda yazmış olduğumuz y değerini alır\n",
    "#Üst tarafta tanımlı sayıyı alt tarafta değiştirmek istiyosak globaltanımını kullanmamız gerekir\n",
    "def ornekFonk():\n",
    "    global y\n",
    "    y = 5\n",
    "    print(y)"
   ]
  },
  {
   "cell_type": "code",
   "execution_count": 14,
   "id": "4fed36b4",
   "metadata": {},
   "outputs": [
    {
     "name": "stdout",
     "output_type": "stream",
     "text": [
      "5\n"
     ]
    }
   ],
   "source": [
    "ornekFonk()"
   ]
  },
  {
   "cell_type": "code",
   "execution_count": 15,
   "id": "b2d0e01d",
   "metadata": {},
   "outputs": [
    {
     "data": {
      "text/plain": [
       "5"
      ]
     },
     "execution_count": 15,
     "metadata": {},
     "output_type": "execute_result"
    }
   ],
   "source": [
    "y"
   ]
  },
  {
   "cell_type": "code",
   "execution_count": null,
   "id": "2f52f69f",
   "metadata": {},
   "outputs": [],
   "source": []
  }
 ],
 "metadata": {
  "kernelspec": {
   "display_name": "Python 3 (ipykernel)",
   "language": "python",
   "name": "python3"
  },
  "language_info": {
   "codemirror_mode": {
    "name": "ipython",
    "version": 3
   },
   "file_extension": ".py",
   "mimetype": "text/x-python",
   "name": "python",
   "nbconvert_exporter": "python",
   "pygments_lexer": "ipython3",
   "version": "3.9.12"
  }
 },
 "nbformat": 4,
 "nbformat_minor": 5
}
