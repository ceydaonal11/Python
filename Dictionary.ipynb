{
 "cells": [
  {
   "cell_type": "code",
   "execution_count": 1,
   "id": "15cf0094",
   "metadata": {},
   "outputs": [],
   "source": [
    "benimListem=[1,2,3]"
   ]
  },
  {
   "cell_type": "code",
   "execution_count": 2,
   "id": "bd1f6673",
   "metadata": {},
   "outputs": [
    {
     "data": {
      "text/plain": [
       "1"
      ]
     },
     "execution_count": 2,
     "metadata": {},
     "output_type": "execute_result"
    }
   ],
   "source": [
    "benimListem[0]"
   ]
  },
  {
   "cell_type": "markdown",
   "id": "98d99f7c",
   "metadata": {},
   "source": [
    "key-value pairing(anahtar kelime-değer eşleşmesi)"
   ]
  },
  {
   "cell_type": "code",
   "execution_count": 3,
   "id": "b3bd1640",
   "metadata": {},
   "outputs": [],
   "source": [
    "benimYemeklerim = [\"Elma\",\"Karpuz\",\"Muz\"]"
   ]
  },
  {
   "cell_type": "code",
   "execution_count": 4,
   "id": "a4d127fc",
   "metadata": {},
   "outputs": [],
   "source": [
    "benimKalorilerim= [100,200,300]"
   ]
  },
  {
   "cell_type": "code",
   "execution_count": 5,
   "id": "c417fafa",
   "metadata": {},
   "outputs": [
    {
     "data": {
      "text/plain": [
       "'Karpuz'"
      ]
     },
     "execution_count": 5,
     "metadata": {},
     "output_type": "execute_result"
    }
   ],
   "source": [
    "benimYemeklerim[1]"
   ]
  },
  {
   "cell_type": "code",
   "execution_count": 6,
   "id": "ca44466f",
   "metadata": {},
   "outputs": [
    {
     "data": {
      "text/plain": [
       "200"
      ]
     },
     "execution_count": 6,
     "metadata": {},
     "output_type": "execute_result"
    }
   ],
   "source": [
    "benimKalorilerim[1]"
   ]
  },
  {
   "cell_type": "code",
   "execution_count": 7,
   "id": "02929011",
   "metadata": {},
   "outputs": [],
   "source": [
    "#dictionary"
   ]
  },
  {
   "cell_type": "code",
   "execution_count": 8,
   "id": "1dd2721a",
   "metadata": {},
   "outputs": [],
   "source": [
    "benimSozluk ={\"anahtarkelime\" : \"deger\"}"
   ]
  },
  {
   "cell_type": "code",
   "execution_count": 9,
   "id": "7c30b6f5",
   "metadata": {},
   "outputs": [
    {
     "data": {
      "text/plain": [
       "dict"
      ]
     },
     "execution_count": 9,
     "metadata": {},
     "output_type": "execute_result"
    }
   ],
   "source": [
    "type(benimSozluk)"
   ]
  },
  {
   "cell_type": "code",
   "execution_count": 10,
   "id": "859a6b74",
   "metadata": {},
   "outputs": [
    {
     "data": {
      "text/plain": [
       "'deger'"
      ]
     },
     "execution_count": 10,
     "metadata": {},
     "output_type": "execute_result"
    }
   ],
   "source": [
    "benimSozluk[\"anahtarkelime\"]"
   ]
  },
  {
   "cell_type": "code",
   "execution_count": 11,
   "id": "392aeba1",
   "metadata": {},
   "outputs": [],
   "source": [
    "benimYemekKaloriSozlugum = {\"elma\" : 100, \"karpuz\" : 200, \"muz\" : 300}"
   ]
  },
  {
   "cell_type": "code",
   "execution_count": 12,
   "id": "ca010b08",
   "metadata": {},
   "outputs": [
    {
     "data": {
      "text/plain": [
       "300"
      ]
     },
     "execution_count": 12,
     "metadata": {},
     "output_type": "execute_result"
    }
   ],
   "source": [
    "benimYemekKaloriSozlugum[\"muz\"]"
   ]
  },
  {
   "cell_type": "code",
   "execution_count": 13,
   "id": "cd815c37",
   "metadata": {},
   "outputs": [],
   "source": [
    "benimYemekKaloriSozlugum[\"elma\"] = 200"
   ]
  },
  {
   "cell_type": "code",
   "execution_count": 14,
   "id": "37bfe8ce",
   "metadata": {},
   "outputs": [
    {
     "data": {
      "text/plain": [
       "{'elma': 200, 'karpuz': 200, 'muz': 300}"
      ]
     },
     "execution_count": 14,
     "metadata": {},
     "output_type": "execute_result"
    }
   ],
   "source": [
    "benimYemekKaloriSozlugum"
   ]
  },
  {
   "cell_type": "code",
   "execution_count": 15,
   "id": "b8f4be20",
   "metadata": {},
   "outputs": [],
   "source": [
    "yeniDictionary = {\"anahtar1\" : 100, \"anahtar2\" : [10,20,30,40,4.5,\"ceyda\"], \"anahtar3\" : {\"anahtar9\" : 4}}"
   ]
  },
  {
   "cell_type": "code",
   "execution_count": 16,
   "id": "a90c104a",
   "metadata": {},
   "outputs": [
    {
     "data": {
      "text/plain": [
       "dict_keys(['anahtar1', 'anahtar2', 'anahtar3'])"
      ]
     },
     "execution_count": 16,
     "metadata": {},
     "output_type": "execute_result"
    }
   ],
   "source": [
    "yeniDictionary.keys()"
   ]
  },
  {
   "cell_type": "code",
   "execution_count": 17,
   "id": "2f8a08a5",
   "metadata": {},
   "outputs": [
    {
     "data": {
      "text/plain": [
       "dict_values([100, [10, 20, 30, 40, 4.5, 'ceyda'], {'anahtar9': 4}])"
      ]
     },
     "execution_count": 17,
     "metadata": {},
     "output_type": "execute_result"
    }
   ],
   "source": [
    "yeniDictionary.values()"
   ]
  },
  {
   "cell_type": "code",
   "execution_count": 18,
   "id": "a656af03",
   "metadata": {},
   "outputs": [
    {
     "data": {
      "text/plain": [
       "[10, 20, 30, 40, 4.5, 'ceyda']"
      ]
     },
     "execution_count": 18,
     "metadata": {},
     "output_type": "execute_result"
    }
   ],
   "source": [
    "yeniDictionary[\"anahtar2\"]"
   ]
  },
  {
   "cell_type": "code",
   "execution_count": 19,
   "id": "d139bfbb",
   "metadata": {},
   "outputs": [
    {
     "data": {
      "text/plain": [
       "'ceyda'"
      ]
     },
     "execution_count": 19,
     "metadata": {},
     "output_type": "execute_result"
    }
   ],
   "source": [
    "yeniDictionary[\"anahtar2\"][5]"
   ]
  },
  {
   "cell_type": "code",
   "execution_count": 20,
   "id": "9d0e6bbc",
   "metadata": {},
   "outputs": [
    {
     "data": {
      "text/plain": [
       "{'anahtar9': 4}"
      ]
     },
     "execution_count": 20,
     "metadata": {},
     "output_type": "execute_result"
    }
   ],
   "source": [
    "yeniDictionary[\"anahtar3\"]"
   ]
  },
  {
   "cell_type": "code",
   "execution_count": 21,
   "id": "b53de841",
   "metadata": {},
   "outputs": [
    {
     "data": {
      "text/plain": [
       "4"
      ]
     },
     "execution_count": 21,
     "metadata": {},
     "output_type": "execute_result"
    }
   ],
   "source": [
    "yeniDictionary[\"anahtar3\"][\"anahtar9\"]"
   ]
  },
  {
   "cell_type": "code",
   "execution_count": null,
   "id": "b04e0f9b",
   "metadata": {},
   "outputs": [],
   "source": []
  }
 ],
 "metadata": {
  "kernelspec": {
   "display_name": "Python 3 (ipykernel)",
   "language": "python",
   "name": "python3"
  },
  "language_info": {
   "codemirror_mode": {
    "name": "ipython",
    "version": 3
   },
   "file_extension": ".py",
   "mimetype": "text/x-python",
   "name": "python",
   "nbconvert_exporter": "python",
   "pygments_lexer": "ipython3",
   "version": "3.9.12"
  }
 },
 "nbformat": 4,
 "nbformat_minor": 5
}
