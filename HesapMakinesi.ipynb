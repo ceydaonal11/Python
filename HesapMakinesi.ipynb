{
 "cells": [
  {
   "cell_type": "code",
   "execution_count": 6,
   "id": "00d08df7",
   "metadata": {},
   "outputs": [
    {
     "name": "stdout",
     "output_type": "stream",
     "text": [
      "İlk sayıyı giriniz: 8\n",
      "İkinci sayıyı giriniz: 24\n",
      "Lütfen yapmak istediğiniz işlemi seçiniz: +-*/ *\n"
     ]
    },
    {
     "data": {
      "text/plain": [
       "'8 * 24 = 32'"
      ]
     },
     "execution_count": 6,
     "metadata": {},
     "output_type": "execute_result"
    }
   ],
   "source": [
    "def hesapla(a,b,islem):\n",
    "    if islem == \"+\":\n",
    "        return(str(a) + \" + \" + str(b) + \" = \" + str(a+b))\n",
    "    if islem == \"-\":\n",
    "        return(str(a) + \" - \" + str(b) + \" = \" + str(a+b))\n",
    "    if islem == \"*\":\n",
    "        return(str(a) + \" * \" + str(b) + \" = \" + str(a+b))\n",
    "    if islem == \"/\":\n",
    "        return(str(a) + \" / \" + str(b) + \" = \" + str(a+b))\n",
    "    \n",
    "a = int(input(\"İlk sayıyı giriniz: \"))\n",
    "b = int(input(\"İkinci sayıyı giriniz: \"))\n",
    "islem = input(\"Lütfen yapmak istediğiniz işlemi seçiniz: +-*/ \")\n",
    "hesapla(a,b,islem)"
   ]
  },
  {
   "cell_type": "code",
   "execution_count": 5,
   "id": "e34baf28",
   "metadata": {},
   "outputs": [
    {
     "data": {
      "text/plain": [
       "'45 + 5 = 50'"
      ]
     },
     "execution_count": 5,
     "metadata": {},
     "output_type": "execute_result"
    }
   ],
   "source": [
    "hesapla(a,b,islem)"
   ]
  },
  {
   "cell_type": "code",
   "execution_count": null,
   "id": "06d5fbfe",
   "metadata": {},
   "outputs": [],
   "source": []
  }
 ],
 "metadata": {
  "kernelspec": {
   "display_name": "Python 3 (ipykernel)",
   "language": "python",
   "name": "python3"
  },
  "language_info": {
   "codemirror_mode": {
    "name": "ipython",
    "version": 3
   },
   "file_extension": ".py",
   "mimetype": "text/x-python",
   "name": "python",
   "nbconvert_exporter": "python",
   "pygments_lexer": "ipython3",
   "version": "3.9.12"
  }
 },
 "nbformat": 4,
 "nbformat_minor": 5
}
