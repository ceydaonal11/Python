{
 "cells": [
  {
   "cell_type": "code",
   "execution_count": null,
   "id": "00d08df7",
   "metadata": {},
   "outputs": [
    {
     "name": "stdout",
     "output_type": "stream",
     "text": [
      "İlk sayıyı giriniz: 85\n",
      "İkinci sayıyı giriniz: 45\n",
      "Lütfen yapmak istediğiniz işlemi seçiniz: +-*/ ceyda\n",
      "Lütfen şu işlemlerden birini seçiniz: +-*/\n",
      "İlk sayıyı giriniz: 96\n",
      "İkinci sayıyı giriniz: 785\n",
      "Lütfen yapmak istediğiniz işlemi seçiniz: +-*/ buğra\n",
      "Lütfen şu işlemlerden birini seçiniz: +-*/\n",
      "İlk sayıyı giriniz: 95\n",
      "İkinci sayıyı giriniz: 64\n",
      "Lütfen yapmak istediğiniz işlemi seçiniz: +-*/ *\n",
      "95 * 64 = 6080\n"
     ]
    }
   ],
   "source": [
    "def hesapla(a,b,islem):\n",
    "    \n",
    "    if islem not in \"+-*/\":\n",
    "        return \"Lütfen şu işlemlerden birini seçiniz: +-*/\"\n",
    "    \n",
    "    if islem == \"+\":\n",
    "        return(str(a) + \" + \" + str(b) + \" = \" + str(a+b))\n",
    "    if islem == \"-\":\n",
    "        return(str(a) + \" - \" + str(b) + \" = \" + str(a-b))\n",
    "    if islem == \"*\":\n",
    "        return(str(a) + \" * \" + str(b) + \" = \" + str(a*b))\n",
    "    if islem == \"/\":\n",
    "        return(str(a) + \" / \" + str(b) + \" = \" + str(a/b))\n",
    " \n",
    "while True:\n",
    "    try:\n",
    "        a = int(input(\"İlk sayıyı giriniz: \"))\n",
    "        b = int(input(\"İkinci sayıyı giriniz: \"))\n",
    "        islem = input(\"Lütfen yapmak istediğiniz işlemi seçiniz: +-*/ \")\n",
    "        print(hesapla(a,b,islem))\n",
    "    except:\n",
    "        print(\"Lütfen sayıları düzgün giriniz\")\n",
    "    \n",
    "\n"
   ]
  },
  {
   "cell_type": "code",
   "execution_count": null,
   "id": "61fc23e2",
   "metadata": {},
   "outputs": [],
   "source": []
  }
 ],
 "metadata": {
  "kernelspec": {
   "display_name": "Python 3 (ipykernel)",
   "language": "python",
   "name": "python3"
  },
  "language_info": {
   "codemirror_mode": {
    "name": "ipython",
    "version": 3
   },
   "file_extension": ".py",
   "mimetype": "text/x-python",
   "name": "python",
   "nbconvert_exporter": "python",
   "pygments_lexer": "ipython3",
   "version": "3.9.12"
  }
 },
 "nbformat": 4,
 "nbformat_minor": 5
}
