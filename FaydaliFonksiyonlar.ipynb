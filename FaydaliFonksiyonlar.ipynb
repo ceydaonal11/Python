{
 "cells": [
  {
   "cell_type": "code",
   "execution_count": 1,
   "id": "ce80749f",
   "metadata": {},
   "outputs": [],
   "source": [
    "def bolmeIslemi(numara):\n",
    "    return numara/2"
   ]
  },
  {
   "cell_type": "code",
   "execution_count": 2,
   "id": "14640a30",
   "metadata": {},
   "outputs": [
    {
     "data": {
      "text/plain": [
       "10.0"
      ]
     },
     "execution_count": 2,
     "metadata": {},
     "output_type": "execute_result"
    }
   ],
   "source": [
    "bolmeIslemi(20)"
   ]
  },
  {
   "cell_type": "code",
   "execution_count": 3,
   "id": "ba6cea0f",
   "metadata": {},
   "outputs": [],
   "source": [
    "benimListem = [1,2,3,4,5,6,7,8,9,10]"
   ]
  },
  {
   "cell_type": "code",
   "execution_count": 10,
   "id": "3166f0b1",
   "metadata": {},
   "outputs": [],
   "source": [
    "yeniListe = []\n",
    "for eleman in benimListem:\n",
    "    yeniListe.append(bolmeIslemi(eleman))"
   ]
  },
  {
   "cell_type": "code",
   "execution_count": 11,
   "id": "9a4a5f3a",
   "metadata": {},
   "outputs": [
    {
     "data": {
      "text/plain": [
       "[0.5, 1.0, 1.5, 2.0, 2.5, 3.0, 3.5, 4.0, 4.5, 5.0]"
      ]
     },
     "execution_count": 11,
     "metadata": {},
     "output_type": "execute_result"
    }
   ],
   "source": [
    "yeniListe"
   ]
  },
  {
   "cell_type": "code",
   "execution_count": 13,
   "id": "f14032f0",
   "metadata": {},
   "outputs": [
    {
     "data": {
      "text/plain": [
       "[0.5, 1.0, 1.5, 2.0, 2.5, 3.0, 3.5, 4.0, 4.5, 5.0]"
      ]
     },
     "execution_count": 13,
     "metadata": {},
     "output_type": "execute_result"
    }
   ],
   "source": [
    "list(map(bolmeIslemi, benimListem))"
   ]
  },
  {
   "cell_type": "code",
   "execution_count": 14,
   "id": "9f53a0a1",
   "metadata": {},
   "outputs": [],
   "source": [
    "def kontrolFonk(string):\n",
    "    return \"a\" in string"
   ]
  },
  {
   "cell_type": "code",
   "execution_count": 15,
   "id": "08a88002",
   "metadata": {},
   "outputs": [
    {
     "data": {
      "text/plain": [
       "True"
      ]
     },
     "execution_count": 15,
     "metadata": {},
     "output_type": "execute_result"
    }
   ],
   "source": [
    "\"a\" in \"ceyda\""
   ]
  },
  {
   "cell_type": "code",
   "execution_count": 16,
   "id": "44a8f157",
   "metadata": {},
   "outputs": [
    {
     "data": {
      "text/plain": [
       "True"
      ]
     },
     "execution_count": 16,
     "metadata": {},
     "output_type": "execute_result"
    }
   ],
   "source": [
    "kontrolFonk(\"Ceyda\")"
   ]
  },
  {
   "cell_type": "code",
   "execution_count": 17,
   "id": "ebd81f65",
   "metadata": {},
   "outputs": [
    {
     "data": {
      "text/plain": [
       "False"
      ]
     },
     "execution_count": 17,
     "metadata": {},
     "output_type": "execute_result"
    }
   ],
   "source": [
    "kontrolFonk(\"Hüseyin\")"
   ]
  },
  {
   "cell_type": "code",
   "execution_count": 46,
   "id": "f84e7ccf",
   "metadata": {},
   "outputs": [],
   "source": [
    "stringListesi = [\"atıl\", \"ceyda\", \"yiğit\",\"defne\",\"zeynep\",\"mustafa\",\"şevval\",\"yunus\"]"
   ]
  },
  {
   "cell_type": "code",
   "execution_count": 48,
   "id": "d8721746",
   "metadata": {},
   "outputs": [],
   "source": [
    "sonucListesi = list(map(kontrolFonk, stringListesi))"
   ]
  },
  {
   "cell_type": "code",
   "execution_count": 49,
   "id": "4790b1e1",
   "metadata": {},
   "outputs": [
    {
     "data": {
      "text/plain": [
       "[True, True, False, False, False, True, True, False]"
      ]
     },
     "execution_count": 49,
     "metadata": {},
     "output_type": "execute_result"
    }
   ],
   "source": [
    "sonucListesi"
   ]
  },
  {
   "cell_type": "code",
   "execution_count": 50,
   "id": "cd6cd168",
   "metadata": {},
   "outputs": [
    {
     "data": {
      "text/plain": [
       "4"
      ]
     },
     "execution_count": 50,
     "metadata": {},
     "output_type": "execute_result"
    }
   ],
   "source": [
    "sonucListesi.count(False)"
   ]
  },
  {
   "cell_type": "code",
   "execution_count": 51,
   "id": "164521c0",
   "metadata": {},
   "outputs": [
    {
     "data": {
      "text/plain": [
       "4"
      ]
     },
     "execution_count": 51,
     "metadata": {},
     "output_type": "execute_result"
    }
   ],
   "source": [
    "sonucListesi.count(True)"
   ]
  },
  {
   "cell_type": "markdown",
   "id": "aecbc71c",
   "metadata": {},
   "source": [
    "Filter --> Sadece true olan fonksiyonları bize gösterir."
   ]
  },
  {
   "cell_type": "code",
   "execution_count": 52,
   "id": "6acc944f",
   "metadata": {},
   "outputs": [
    {
     "data": {
      "text/plain": [
       "['atıl', 'ceyda', 'mustafa', 'şevval']"
      ]
     },
     "execution_count": 52,
     "metadata": {},
     "output_type": "execute_result"
    }
   ],
   "source": [
    "list(filter(kontrolFonk, stringListesi))"
   ]
  },
  {
   "cell_type": "markdown",
   "id": "ab3cc74b",
   "metadata": {},
   "source": [
    "Lambda --> fonksiyonları tek satırda yazmak ya da değişken gibi yazmak gibi düşünebiliriz "
   ]
  },
  {
   "cell_type": "code",
   "execution_count": 53,
   "id": "1fffee0b",
   "metadata": {},
   "outputs": [],
   "source": [
    "carpma = lambda numara : numara * 3"
   ]
  },
  {
   "cell_type": "code",
   "execution_count": 54,
   "id": "43453464",
   "metadata": {},
   "outputs": [
    {
     "data": {
      "text/plain": [
       "30"
      ]
     },
     "execution_count": 54,
     "metadata": {},
     "output_type": "execute_result"
    }
   ],
   "source": [
    "carpma(10)"
   ]
  },
  {
   "cell_type": "code",
   "execution_count": 55,
   "id": "9fb21093",
   "metadata": {},
   "outputs": [],
   "source": [
    "ornekListesi = [10,20,30]"
   ]
  },
  {
   "cell_type": "code",
   "execution_count": 56,
   "id": "3e967b4b",
   "metadata": {},
   "outputs": [
    {
     "data": {
      "text/plain": [
       "[40, 80, 120]"
      ]
     },
     "execution_count": 56,
     "metadata": {},
     "output_type": "execute_result"
    }
   ],
   "source": [
    "list(map(lambda numara : numara * 4, ornekListesi))"
   ]
  },
  {
   "cell_type": "code",
   "execution_count": null,
   "id": "2c405b10",
   "metadata": {},
   "outputs": [],
   "source": []
  }
 ],
 "metadata": {
  "kernelspec": {
   "display_name": "Python 3 (ipykernel)",
   "language": "python",
   "name": "python3"
  },
  "language_info": {
   "codemirror_mode": {
    "name": "ipython",
    "version": 3
   },
   "file_extension": ".py",
   "mimetype": "text/x-python",
   "name": "python",
   "nbconvert_exporter": "python",
   "pygments_lexer": "ipython3",
   "version": "3.9.12"
  }
 },
 "nbformat": 4,
 "nbformat_minor": 5
}
