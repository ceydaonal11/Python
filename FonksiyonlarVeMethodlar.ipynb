{
 "cells": [
  {
   "cell_type": "code",
   "execution_count": 1,
   "id": "2769b3d4",
   "metadata": {},
   "outputs": [],
   "source": [
    "benimAdim = \"Ceyda Önal\""
   ]
  },
  {
   "cell_type": "code",
   "execution_count": 2,
   "id": "68b12b2a",
   "metadata": {},
   "outputs": [
    {
     "data": {
      "text/plain": [
       "'CEYDA ÖNAL'"
      ]
     },
     "execution_count": 2,
     "metadata": {},
     "output_type": "execute_result"
    }
   ],
   "source": [
    "benimAdim.upper()"
   ]
  },
  {
   "cell_type": "code",
   "execution_count": 3,
   "id": "6eee33e7",
   "metadata": {},
   "outputs": [
    {
     "data": {
      "text/plain": [
       "'Ceyda Önal'"
      ]
     },
     "execution_count": 3,
     "metadata": {},
     "output_type": "execute_result"
    }
   ],
   "source": [
    "benimAdim"
   ]
  },
  {
   "cell_type": "code",
   "execution_count": 4,
   "id": "f163ee20",
   "metadata": {},
   "outputs": [],
   "source": [
    "benimAdimBuyukHarfli = benimAdim.upper()"
   ]
  },
  {
   "cell_type": "code",
   "execution_count": 5,
   "id": "b1097ea9",
   "metadata": {},
   "outputs": [
    {
     "data": {
      "text/plain": [
       "'CEYDA ÖNAL'"
      ]
     },
     "execution_count": 5,
     "metadata": {},
     "output_type": "execute_result"
    }
   ],
   "source": [
    "benimAdimBuyukHarfli"
   ]
  },
  {
   "cell_type": "code",
   "execution_count": 6,
   "id": "e6fbe068",
   "metadata": {},
   "outputs": [
    {
     "data": {
      "text/plain": [
       "'Ceyda Önal'"
      ]
     },
     "execution_count": 6,
     "metadata": {},
     "output_type": "execute_result"
    }
   ],
   "source": [
    "benimAdim"
   ]
  },
  {
   "cell_type": "code",
   "execution_count": 7,
   "id": "3b4b99a1",
   "metadata": {},
   "outputs": [
    {
     "name": "stdout",
     "output_type": "stream",
     "text": [
      "Help on built-in function upper:\n",
      "\n",
      "upper() method of builtins.str instance\n",
      "    Return a copy of the string converted to uppercase.\n",
      "\n"
     ]
    }
   ],
   "source": [
    "help(benimAdim.upper)"
   ]
  },
  {
   "cell_type": "code",
   "execution_count": 8,
   "id": "29ef18fe",
   "metadata": {},
   "outputs": [],
   "source": [
    "def ilkFonksiyon():\n",
    "    print(\"İlk fonksiyonum\")"
   ]
  },
  {
   "cell_type": "code",
   "execution_count": 9,
   "id": "97119b78",
   "metadata": {},
   "outputs": [
    {
     "name": "stdout",
     "output_type": "stream",
     "text": [
      "İlk fonksiyonum\n"
     ]
    }
   ],
   "source": [
    "ilkFonksiyon()"
   ]
  },
  {
   "cell_type": "markdown",
   "id": "802b5c3f",
   "metadata": {},
   "source": [
    "input & return"
   ]
  },
  {
   "cell_type": "code",
   "execution_count": 14,
   "id": "246df36b",
   "metadata": {},
   "outputs": [],
   "source": [
    "def merhabaDunya(yazdirilacakIsim):\n",
    "    print(\"merhaba\")\n",
    "    print(yazdirilacakIsim)"
   ]
  },
  {
   "cell_type": "code",
   "execution_count": 15,
   "id": "9a0e305c",
   "metadata": {},
   "outputs": [
    {
     "data": {
      "text/plain": [
       "<function __main__.merhabaDunya(yazdirilacakIsim)>"
      ]
     },
     "execution_count": 15,
     "metadata": {},
     "output_type": "execute_result"
    }
   ],
   "source": [
    "merhabaDunya"
   ]
  },
  {
   "cell_type": "code",
   "execution_count": 16,
   "id": "b6d686f0",
   "metadata": {},
   "outputs": [
    {
     "name": "stdout",
     "output_type": "stream",
     "text": [
      "merhaba\n",
      "Ceyda\n"
     ]
    }
   ],
   "source": [
    "merhabaDunya(\"Ceyda\")"
   ]
  },
  {
   "cell_type": "code",
   "execution_count": 17,
   "id": "59cffa5b",
   "metadata": {},
   "outputs": [
    {
     "name": "stdout",
     "output_type": "stream",
     "text": [
      "merhaba\n",
      "python\n"
     ]
    }
   ],
   "source": [
    "merhabaDunya(\"python\")"
   ]
  },
  {
   "cell_type": "code",
   "execution_count": 18,
   "id": "8eb1d892",
   "metadata": {},
   "outputs": [],
   "source": [
    "def merhaba(isim = \"atıl\"):\n",
    "    print(\"merhaba\")\n",
    "    print(isim)"
   ]
  },
  {
   "cell_type": "code",
   "execution_count": 19,
   "id": "8dc8a052",
   "metadata": {},
   "outputs": [
    {
     "name": "stdout",
     "output_type": "stream",
     "text": [
      "merhaba\n",
      "atıl\n"
     ]
    }
   ],
   "source": [
    "merhaba()"
   ]
  },
  {
   "cell_type": "code",
   "execution_count": 20,
   "id": "b0387b66",
   "metadata": {},
   "outputs": [
    {
     "name": "stdout",
     "output_type": "stream",
     "text": [
      "merhaba\n",
      "python\n"
     ]
    }
   ],
   "source": [
    "merhaba(\"python\")"
   ]
  },
  {
   "cell_type": "code",
   "execution_count": 22,
   "id": "2b838ac7",
   "metadata": {},
   "outputs": [],
   "source": [
    "def toplama(num1, num2):\n",
    "    sonuc = num1 + num2\n",
    "    print(sonuc)"
   ]
  },
  {
   "cell_type": "code",
   "execution_count": 23,
   "id": "7207a0c4",
   "metadata": {},
   "outputs": [
    {
     "name": "stdout",
     "output_type": "stream",
     "text": [
      "60\n"
     ]
    }
   ],
   "source": [
    "toplama(10,50)"
   ]
  },
  {
   "cell_type": "code",
   "execution_count": 24,
   "id": "4e323f99",
   "metadata": {},
   "outputs": [
    {
     "name": "stdout",
     "output_type": "stream",
     "text": [
      "585\n"
     ]
    }
   ],
   "source": [
    "toplama(-200,785)"
   ]
  },
  {
   "cell_type": "code",
   "execution_count": 25,
   "id": "b7428556",
   "metadata": {},
   "outputs": [
    {
     "name": "stdout",
     "output_type": "stream",
     "text": [
      "30\n"
     ]
    }
   ],
   "source": [
    "yeniDegisken = toplama(10,20)"
   ]
  },
  {
   "cell_type": "code",
   "execution_count": 26,
   "id": "54f6a96b",
   "metadata": {},
   "outputs": [],
   "source": [
    "yeniDegisken"
   ]
  },
  {
   "cell_type": "code",
   "execution_count": 27,
   "id": "b7f77307",
   "metadata": {},
   "outputs": [
    {
     "name": "stdout",
     "output_type": "stream",
     "text": [
      "None\n"
     ]
    }
   ],
   "source": [
    "print(yeniDegisken)"
   ]
  },
  {
   "cell_type": "code",
   "execution_count": 28,
   "id": "f420a9f0",
   "metadata": {},
   "outputs": [
    {
     "name": "stdout",
     "output_type": "stream",
     "text": [
      "None\n"
     ]
    },
    {
     "data": {
      "text/plain": [
       "NoneType"
      ]
     },
     "execution_count": 28,
     "metadata": {},
     "output_type": "execute_result"
    }
   ],
   "source": [
    "type(print(yeniDegisken))"
   ]
  },
  {
   "cell_type": "code",
   "execution_count": 29,
   "id": "6aabf7be",
   "metadata": {},
   "outputs": [],
   "source": [
    "def dondurmeliTop(num1, num2):\n",
    "    return num1 + num2"
   ]
  },
  {
   "cell_type": "code",
   "execution_count": 30,
   "id": "b4b5a799",
   "metadata": {},
   "outputs": [],
   "source": [
    "yeniSonuc = dondurmeliTop(10,20)"
   ]
  },
  {
   "cell_type": "code",
   "execution_count": 31,
   "id": "4c9f1a14",
   "metadata": {},
   "outputs": [
    {
     "data": {
      "text/plain": [
       "int"
      ]
     },
     "execution_count": 31,
     "metadata": {},
     "output_type": "execute_result"
    }
   ],
   "source": [
    "type(yeniSonuc)"
   ]
  },
  {
   "cell_type": "code",
   "execution_count": 32,
   "id": "fc954042",
   "metadata": {},
   "outputs": [],
   "source": [
    "def kontrolFonk(s):\n",
    "    if s == \"atıl\":\n",
    "        print(\"verdiğiniz string atıl\")\n",
    "    else:\n",
    "        print(\"verdiğiniz string başka bir şey\")\n",
    "        "
   ]
  },
  {
   "cell_type": "code",
   "execution_count": 33,
   "id": "2f353fc4",
   "metadata": {},
   "outputs": [
    {
     "name": "stdout",
     "output_type": "stream",
     "text": [
      "verdiğiniz string atıl\n"
     ]
    }
   ],
   "source": [
    "kontrolFonk(\"atıl\")"
   ]
  },
  {
   "cell_type": "code",
   "execution_count": 34,
   "id": "ec1ecc90",
   "metadata": {},
   "outputs": [
    {
     "name": "stdout",
     "output_type": "stream",
     "text": [
      "verdiğiniz string başka bir şey\n"
     ]
    }
   ],
   "source": [
    "kontrolFonk(\"python\")"
   ]
  },
  {
   "cell_type": "markdown",
   "id": "e85542f0",
   "metadata": {},
   "source": [
    "args & kwargs"
   ]
  },
  {
   "cell_type": "code",
   "execution_count": 35,
   "id": "edcf5d0d",
   "metadata": {},
   "outputs": [],
   "source": [
    "def yeniTop(*args):\n",
    "    return sum(args)"
   ]
  },
  {
   "cell_type": "code",
   "execution_count": 36,
   "id": "9ca191d6",
   "metadata": {},
   "outputs": [
    {
     "data": {
      "text/plain": [
       "580"
      ]
     },
     "execution_count": 36,
     "metadata": {},
     "output_type": "execute_result"
    }
   ],
   "source": [
    "yeniTop(10,20,30,520)"
   ]
  },
  {
   "cell_type": "code",
   "execution_count": 37,
   "id": "a07a9630",
   "metadata": {},
   "outputs": [
    {
     "data": {
      "text/plain": [
       "847"
      ]
     },
     "execution_count": 37,
     "metadata": {},
     "output_type": "execute_result"
    }
   ],
   "source": [
    "yeniTop(85,64,625,32,41)"
   ]
  },
  {
   "cell_type": "code",
   "execution_count": 40,
   "id": "4b0c8deb",
   "metadata": {},
   "outputs": [],
   "source": [
    "def benimFonk(*args):\n",
    "    return(args)"
   ]
  },
  {
   "cell_type": "code",
   "execution_count": 41,
   "id": "da4eb488",
   "metadata": {},
   "outputs": [
    {
     "data": {
      "text/plain": [
       "tuple"
      ]
     },
     "execution_count": 41,
     "metadata": {},
     "output_type": "execute_result"
    }
   ],
   "source": [
    "type(benimFonk(20,62,30))"
   ]
  },
  {
   "cell_type": "code",
   "execution_count": 44,
   "id": "4cd060e7",
   "metadata": {},
   "outputs": [],
   "source": [
    "def ornekFonk(**kwargs):\n",
    "    return(kwargs)"
   ]
  },
  {
   "cell_type": "code",
   "execution_count": 46,
   "id": "eaeaf401",
   "metadata": {},
   "outputs": [
    {
     "data": {
      "text/plain": [
       "dict"
      ]
     },
     "execution_count": 46,
     "metadata": {},
     "output_type": "execute_result"
    }
   ],
   "source": [
    "type(ornekFonk(muz = 100, elma = 200, ananas = 300))"
   ]
  },
  {
   "cell_type": "code",
   "execution_count": 47,
   "id": "5b556012",
   "metadata": {},
   "outputs": [],
   "source": [
    "def keyWordKontrolu(**kwargs):\n",
    "    if \"atıl\" in kwargs:\n",
    "        print(\"atıl var\")\n",
    "    else:\n",
    "        print(\"atıl yok\")"
   ]
  },
  {
   "cell_type": "code",
   "execution_count": 48,
   "id": "910e9f44",
   "metadata": {},
   "outputs": [
    {
     "name": "stdout",
     "output_type": "stream",
     "text": [
      "atıl yok\n"
     ]
    }
   ],
   "source": [
    "keyWordKontrolu(ceyda = 60, zeynep = 70, merve = 50)"
   ]
  },
  {
   "cell_type": "code",
   "execution_count": null,
   "id": "9106c581",
   "metadata": {},
   "outputs": [],
   "source": []
  }
 ],
 "metadata": {
  "kernelspec": {
   "display_name": "Python 3 (ipykernel)",
   "language": "python",
   "name": "python3"
  },
  "language_info": {
   "codemirror_mode": {
    "name": "ipython",
    "version": 3
   },
   "file_extension": ".py",
   "mimetype": "text/x-python",
   "name": "python",
   "nbconvert_exporter": "python",
   "pygments_lexer": "ipython3",
   "version": "3.9.12"
  }
 },
 "nbformat": 4,
 "nbformat_minor": 5
}
