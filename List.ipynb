{
 "cells": [
  {
   "cell_type": "code",
   "execution_count": 1,
   "id": "0abf82d7",
   "metadata": {},
   "outputs": [],
   "source": [
    "benimString =\"Ceyda Önal\""
   ]
  },
  {
   "cell_type": "code",
   "execution_count": 3,
   "id": "48cb068f",
   "metadata": {},
   "outputs": [
    {
     "data": {
      "text/plain": [
       "'C'"
      ]
     },
     "execution_count": 3,
     "metadata": {},
     "output_type": "execute_result"
    }
   ],
   "source": [
    "benimString[0]"
   ]
  },
  {
   "cell_type": "code",
   "execution_count": 4,
   "id": "b56ca11e",
   "metadata": {},
   "outputs": [],
   "source": [
    "#immutability & mutable"
   ]
  },
  {
   "cell_type": "code",
   "execution_count": 6,
   "id": "077b0edc",
   "metadata": {},
   "outputs": [],
   "source": [
    "benimListem =[10,20,30,40]"
   ]
  },
  {
   "cell_type": "code",
   "execution_count": 7,
   "id": "da271bd3",
   "metadata": {},
   "outputs": [
    {
     "data": {
      "text/plain": [
       "list"
      ]
     },
     "execution_count": 7,
     "metadata": {},
     "output_type": "execute_result"
    }
   ],
   "source": [
    "type(benimListem)"
   ]
  },
  {
   "cell_type": "code",
   "execution_count": 8,
   "id": "7bd0fd20",
   "metadata": {},
   "outputs": [],
   "source": [
    "benimListem.append(50)"
   ]
  },
  {
   "cell_type": "code",
   "execution_count": 9,
   "id": "6004b6b9",
   "metadata": {},
   "outputs": [
    {
     "data": {
      "text/plain": [
       "[10, 20, 30, 40, 50]"
      ]
     },
     "execution_count": 9,
     "metadata": {},
     "output_type": "execute_result"
    }
   ],
   "source": [
    "benimListem"
   ]
  },
  {
   "cell_type": "code",
   "execution_count": null,
   "id": "23be18c9",
   "metadata": {},
   "outputs": [],
   "source": [
    "#Son eklenen elemanı siler "
   ]
  },
  {
   "cell_type": "code",
   "execution_count": 10,
   "id": "1ce6443d",
   "metadata": {},
   "outputs": [
    {
     "data": {
      "text/plain": [
       "50"
      ]
     },
     "execution_count": 10,
     "metadata": {},
     "output_type": "execute_result"
    }
   ],
   "source": [
    "benimListem.pop()"
   ]
  },
  {
   "cell_type": "code",
   "execution_count": 11,
   "id": "2edb0eec",
   "metadata": {},
   "outputs": [
    {
     "data": {
      "text/plain": [
       "[10, 20, 30, 40]"
      ]
     },
     "execution_count": 11,
     "metadata": {},
     "output_type": "execute_result"
    }
   ],
   "source": [
    "benimListem"
   ]
  },
  {
   "cell_type": "code",
   "execution_count": null,
   "id": "9337fe3e",
   "metadata": {},
   "outputs": [],
   "source": [
    "#Tersten yazma"
   ]
  },
  {
   "cell_type": "code",
   "execution_count": 12,
   "id": "bc84bf44",
   "metadata": {},
   "outputs": [],
   "source": [
    "benimListem.reverse()"
   ]
  },
  {
   "cell_type": "code",
   "execution_count": 13,
   "id": "ff1b2321",
   "metadata": {},
   "outputs": [
    {
     "data": {
      "text/plain": [
       "[40, 30, 20, 10]"
      ]
     },
     "execution_count": 13,
     "metadata": {},
     "output_type": "execute_result"
    }
   ],
   "source": [
    "benimListem"
   ]
  },
  {
   "cell_type": "code",
   "execution_count": null,
   "id": "8029281a",
   "metadata": {},
   "outputs": [],
   "source": [
    "#Girilen değeri listeden çıkarma"
   ]
  },
  {
   "cell_type": "code",
   "execution_count": 14,
   "id": "1afd7e9e",
   "metadata": {},
   "outputs": [],
   "source": [
    "benimListem.remove(10)"
   ]
  },
  {
   "cell_type": "code",
   "execution_count": 15,
   "id": "d177cc41",
   "metadata": {},
   "outputs": [
    {
     "data": {
      "text/plain": [
       "[40, 30, 20]"
      ]
     },
     "execution_count": 15,
     "metadata": {},
     "output_type": "execute_result"
    }
   ],
   "source": [
    "benimListem"
   ]
  },
  {
   "cell_type": "code",
   "execution_count": null,
   "id": "b69f644c",
   "metadata": {},
   "outputs": [],
   "source": [
    "#Listeye eleman ekleme"
   ]
  },
  {
   "cell_type": "code",
   "execution_count": 16,
   "id": "bf510e9f",
   "metadata": {},
   "outputs": [],
   "source": [
    "benimListem.append(20)"
   ]
  },
  {
   "cell_type": "code",
   "execution_count": 17,
   "id": "9c14d536",
   "metadata": {},
   "outputs": [
    {
     "data": {
      "text/plain": [
       "[40, 30, 20, 20]"
      ]
     },
     "execution_count": 17,
     "metadata": {},
     "output_type": "execute_result"
    }
   ],
   "source": [
    "benimListem"
   ]
  },
  {
   "cell_type": "code",
   "execution_count": 18,
   "id": "1ae3ead8",
   "metadata": {},
   "outputs": [
    {
     "data": {
      "text/plain": [
       "2"
      ]
     },
     "execution_count": 18,
     "metadata": {},
     "output_type": "execute_result"
    }
   ],
   "source": [
    "benimListem.count(20)"
   ]
  },
  {
   "cell_type": "code",
   "execution_count": 19,
   "id": "a26905cc",
   "metadata": {},
   "outputs": [],
   "source": [
    "benimStringListem= [\"ceyda\",\"buğra\",\"hüseyin\"]"
   ]
  },
  {
   "cell_type": "code",
   "execution_count": 20,
   "id": "eeaa22d8",
   "metadata": {},
   "outputs": [],
   "source": [
    "benimDigerListem = [\"ahmet\",\"mehmet\",\"ayşe\",\"fatma\"]"
   ]
  },
  {
   "cell_type": "code",
   "execution_count": 21,
   "id": "d239b5e4",
   "metadata": {},
   "outputs": [],
   "source": [
    "benimToplamaListem = benimStringListem + benimDigerListem"
   ]
  },
  {
   "cell_type": "code",
   "execution_count": 22,
   "id": "b308063d",
   "metadata": {},
   "outputs": [
    {
     "data": {
      "text/plain": [
       "['ceyda', 'buğra', 'hüseyin', 'ahmet', 'mehmet', 'ayşe', 'fatma']"
      ]
     },
     "execution_count": 22,
     "metadata": {},
     "output_type": "execute_result"
    }
   ],
   "source": [
    "benimToplamaListem"
   ]
  },
  {
   "cell_type": "code",
   "execution_count": 23,
   "id": "6ecfbf94",
   "metadata": {},
   "outputs": [
    {
     "data": {
      "text/plain": [
       "['ceyda',\n",
       " 'buğra',\n",
       " 'hüseyin',\n",
       " 'ceyda',\n",
       " 'buğra',\n",
       " 'hüseyin',\n",
       " 'ceyda',\n",
       " 'buğra',\n",
       " 'hüseyin']"
      ]
     },
     "execution_count": 23,
     "metadata": {},
     "output_type": "execute_result"
    }
   ],
   "source": [
    "benimStringListem*3"
   ]
  },
  {
   "cell_type": "code",
   "execution_count": 24,
   "id": "cfda0ab8",
   "metadata": {},
   "outputs": [],
   "source": [
    "karisikListe = [1,2,3,4.5, \"ceyda\",11]"
   ]
  },
  {
   "cell_type": "code",
   "execution_count": 25,
   "id": "1aaf4be7",
   "metadata": {},
   "outputs": [
    {
     "data": {
      "text/plain": [
       "list"
      ]
     },
     "execution_count": 25,
     "metadata": {},
     "output_type": "execute_result"
    }
   ],
   "source": [
    "type(karisikListe)"
   ]
  },
  {
   "cell_type": "code",
   "execution_count": 26,
   "id": "74746f44",
   "metadata": {},
   "outputs": [
    {
     "data": {
      "text/plain": [
       "3"
      ]
     },
     "execution_count": 26,
     "metadata": {},
     "output_type": "execute_result"
    }
   ],
   "source": [
    "sonucum = karisikListe[2]\n",
    "karisikListe[2]"
   ]
  },
  {
   "cell_type": "code",
   "execution_count": 27,
   "id": "a1d9bdb1",
   "metadata": {},
   "outputs": [
    {
     "data": {
      "text/plain": [
       "int"
      ]
     },
     "execution_count": 27,
     "metadata": {},
     "output_type": "execute_result"
    }
   ],
   "source": [
    "type(sonucum)"
   ]
  },
  {
   "cell_type": "code",
   "execution_count": 28,
   "id": "a5cf8e3b",
   "metadata": {},
   "outputs": [],
   "source": [
    "nestedListe = [1,5,\"ceyda\",4,[6,\"z\"]]"
   ]
  },
  {
   "cell_type": "code",
   "execution_count": 29,
   "id": "1d75075f",
   "metadata": {},
   "outputs": [
    {
     "data": {
      "text/plain": [
       "[6, 'z']"
      ]
     },
     "execution_count": 29,
     "metadata": {},
     "output_type": "execute_result"
    }
   ],
   "source": [
    "nestedListe[4]"
   ]
  },
  {
   "cell_type": "code",
   "execution_count": 31,
   "id": "81703382",
   "metadata": {},
   "outputs": [
    {
     "data": {
      "text/plain": [
       "'z'"
      ]
     },
     "execution_count": 31,
     "metadata": {},
     "output_type": "execute_result"
    }
   ],
   "source": [
    "nestedListe[4][1]"
   ]
  },
  {
   "cell_type": "code",
   "execution_count": 32,
   "id": "1d25dc40",
   "metadata": {},
   "outputs": [],
   "source": [
    "k = nestedListe[4][1]"
   ]
  },
  {
   "cell_type": "code",
   "execution_count": 33,
   "id": "2b3861de",
   "metadata": {},
   "outputs": [
    {
     "data": {
      "text/plain": [
       "'z'"
      ]
     },
     "execution_count": 33,
     "metadata": {},
     "output_type": "execute_result"
    }
   ],
   "source": [
    "k"
   ]
  },
  {
   "cell_type": "code",
   "execution_count": 34,
   "id": "a9c68949",
   "metadata": {},
   "outputs": [],
   "source": [
    "karmasikListe=[[1,2,3,[\"a\",\"b\"],50],40,20,[\"z\",5.5],[3,[\"a\"]]]"
   ]
  },
  {
   "cell_type": "code",
   "execution_count": 41,
   "id": "cef1bd17",
   "metadata": {},
   "outputs": [
    {
     "data": {
      "text/plain": [
       "'b'"
      ]
     },
     "execution_count": 41,
     "metadata": {},
     "output_type": "execute_result"
    }
   ],
   "source": [
    "karmasikListe[0][3][1]"
   ]
  },
  {
   "cell_type": "code",
   "execution_count": 42,
   "id": "394db7b0",
   "metadata": {},
   "outputs": [],
   "source": [
    "bDegiskenimiz = karmasikListe[0][3][1]"
   ]
  },
  {
   "cell_type": "code",
   "execution_count": 43,
   "id": "31d4e3d9",
   "metadata": {},
   "outputs": [
    {
     "data": {
      "text/plain": [
       "'b'"
      ]
     },
     "execution_count": 43,
     "metadata": {},
     "output_type": "execute_result"
    }
   ],
   "source": [
    "bDegiskenimiz"
   ]
  },
  {
   "cell_type": "code",
   "execution_count": null,
   "id": "824ec9c9",
   "metadata": {},
   "outputs": [],
   "source": [
    " "
   ]
  }
 ],
 "metadata": {
  "kernelspec": {
   "display_name": "Python 3 (ipykernel)",
   "language": "python",
   "name": "python3"
  },
  "language_info": {
   "codemirror_mode": {
    "name": "ipython",
    "version": 3
   },
   "file_extension": ".py",
   "mimetype": "text/x-python",
   "name": "python",
   "nbconvert_exporter": "python",
   "pygments_lexer": "ipython3",
   "version": "3.9.12"
  }
 },
 "nbformat": 4,
 "nbformat_minor": 5
}
