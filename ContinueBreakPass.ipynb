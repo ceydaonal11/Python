{
 "cells": [
  {
   "cell_type": "code",
   "execution_count": 1,
   "id": "df9cfc31",
   "metadata": {},
   "outputs": [],
   "source": [
    "benimListem = [5,10,15,20,25,30]"
   ]
  },
  {
   "cell_type": "code",
   "execution_count": 2,
   "id": "c521c6a1",
   "metadata": {},
   "outputs": [
    {
     "name": "stdout",
     "output_type": "stream",
     "text": [
      "1.0\n",
      "2.0\n",
      "3.0\n",
      "4.0\n",
      "5.0\n",
      "6.0\n"
     ]
    }
   ],
   "source": [
    "for numara in benimListem:\n",
    "    print(numara / 5)"
   ]
  },
  {
   "cell_type": "code",
   "execution_count": 3,
   "id": "e55cfd77",
   "metadata": {},
   "outputs": [
    {
     "name": "stdout",
     "output_type": "stream",
     "text": [
      "5\n",
      "10\n"
     ]
    }
   ],
   "source": [
    "for numara in benimListem:\n",
    "    if numara == 15:\n",
    "        break\n",
    "    print(numara)    "
   ]
  },
  {
   "cell_type": "code",
   "execution_count": 4,
   "id": "815c868d",
   "metadata": {},
   "outputs": [
    {
     "name": "stdout",
     "output_type": "stream",
     "text": [
      "5\n",
      "10\n",
      "20\n",
      "25\n",
      "30\n"
     ]
    }
   ],
   "source": [
    "for numara in benimListem:\n",
    "    if numara  == 15:\n",
    "        continue\n",
    "    print(numara)    "
   ]
  },
  {
   "cell_type": "code",
   "execution_count": null,
   "id": "eb6effd7",
   "metadata": {},
   "outputs": [],
   "source": [
    "# pass --> işlem yapmayacaksak veya sonrasında yapcaksak"
   ]
  },
  {
   "cell_type": "code",
   "execution_count": 5,
   "id": "e4cd5621",
   "metadata": {},
   "outputs": [],
   "source": [
    "for numara in benimListem:\n",
    "    pass"
   ]
  },
  {
   "cell_type": "code",
   "execution_count": null,
   "id": "519cbf6d",
   "metadata": {},
   "outputs": [],
   "source": []
  }
 ],
 "metadata": {
  "kernelspec": {
   "display_name": "Python 3 (ipykernel)",
   "language": "python",
   "name": "python3"
  },
  "language_info": {
   "codemirror_mode": {
    "name": "ipython",
    "version": 3
   },
   "file_extension": ".py",
   "mimetype": "text/x-python",
   "name": "python",
   "nbconvert_exporter": "python",
   "pygments_lexer": "ipython3",
   "version": "3.9.12"
  }
 },
 "nbformat": 4,
 "nbformat_minor": 5
}
